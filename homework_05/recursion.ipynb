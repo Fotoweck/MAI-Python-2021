{
 "cells": [
  {
   "cell_type": "code",
   "execution_count": 5,
   "id": "020684bd",
   "metadata": {},
   "outputs": [
    {
     "name": "stdout",
     "output_type": "stream",
     "text": [
      "45\n",
      "85\n",
      "74\n",
      "qq\n",
      "None\n"
     ]
    }
   ],
   "source": [
    "def recursive_print_list(l:list,n:int):\n",
    "    if n == (len(l)):\n",
    "        return\n",
    "    print(l[n])\n",
    "    recursive_print_list(l,n + 1)\n",
    "l=[45,85,74,'qq']\n",
    "n=0\n",
    "print(recursive_print_list(l,n))"
   ]
  },
  {
   "cell_type": "code",
   "execution_count": null,
   "id": "df495808",
   "metadata": {},
   "outputs": [],
   "source": []
  }
 ],
 "metadata": {
  "kernelspec": {
   "display_name": "Python 3 (ipykernel)",
   "language": "python",
   "name": "python3"
  },
  "language_info": {
   "codemirror_mode": {
    "name": "ipython",
    "version": 3
   },
   "file_extension": ".py",
   "mimetype": "text/x-python",
   "name": "python",
   "nbconvert_exporter": "python",
   "pygments_lexer": "ipython3",
   "version": "3.9.7"
  }
 },
 "nbformat": 4,
 "nbformat_minor": 5
}
