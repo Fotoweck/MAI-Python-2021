{
 "cells": [
  {
   "cell_type": "code",
   "execution_count": 4,
   "id": "687be111",
   "metadata": {},
   "outputs": [],
   "source": [
    "from PIL import Image, ImageFilter, ImageDraw\n",
    " \n",
    "im = Image.open('kotik.jpg')\n",
    "(width, height) = im.size\n",
    "pixels = im.load()\n",
    "invert_im = Image.new(im.mode, im.size)\n",
    "drawer = ImageDraw.Draw(invert_im)\n",
    "\n",
    "for x in range(0, width):\n",
    "    for y in range(0, height):\n",
    "        (r, g, b) = pixels[x, y] \n",
    "        drawer.point((x, y), (255-r, 255-g, 255-b))\n",
    "\n",
    "blur_im = invert_im.filter(ImageFilter.BoxBlur(10))\n",
    "blur_im.show()\n",
    "blur_im.save('kotik_blur-invert.jpg')"
   ]
  },
  {
   "cell_type": "code",
   "execution_count": null,
   "id": "2cfa559b",
   "metadata": {},
   "outputs": [],
   "source": []
  },
  {
   "cell_type": "code",
   "execution_count": null,
   "id": "51cbe8e7",
   "metadata": {},
   "outputs": [],
   "source": []
  }
 ],
 "metadata": {
  "kernelspec": {
   "display_name": "Python 3 (ipykernel)",
   "language": "python",
   "name": "python3"
  },
  "language_info": {
   "codemirror_mode": {
    "name": "ipython",
    "version": 3
   },
   "file_extension": ".py",
   "mimetype": "text/x-python",
   "name": "python",
   "nbconvert_exporter": "python",
   "pygments_lexer": "ipython3",
   "version": "3.9.7"
  }
 },
 "nbformat": 4,
 "nbformat_minor": 5
}
