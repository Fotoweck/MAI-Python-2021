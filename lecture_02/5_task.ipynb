{
 "cells": [
  {
   "cell_type": "markdown",
   "id": "85755de8",
   "metadata": {},
   "source": [
    "# Самостоятельное задание #5\n",
    "\n",
    "\n",
    "### Задание 1\n",
    "\n",
    "Допишите функцию, которая принимает список, выбирает из него все элементы с четным индексом и возвращает их в виде списка."
   ]
  },
  {
   "cell_type": "code",
   "execution_count": 49,
   "id": "6ef6d9b3",
   "metadata": {},
   "outputs": [
    {
     "name": "stdout",
     "output_type": "stream",
     "text": [
      "3 4 5 6 7\n",
      "4 6 "
     ]
    }
   ],
   "source": [
    "s=input()\n",
    "a=[int(s) for s in s.split()]\n",
    "for i in a:\n",
    "    if int(i)%2 == 0:\n",
    "       print(i,end=' ')"
   ]
  },
  {
   "cell_type": "markdown",
   "id": "443974c9",
   "metadata": {},
   "source": [
    "### Задание 2\n",
    "\n",
    "Допишите функцию, которая принимает список, выбирает из него все элементы, которые больше предыдущего и возвращает их в виде списка.\n"
   ]
  },
  {
   "cell_type": "code",
   "execution_count": 51,
   "id": "3a8cf925",
   "metadata": {},
   "outputs": [
    {
     "name": "stdout",
     "output_type": "stream",
     "text": [
      "5 6 7 5\n",
      "6\n",
      "7\n"
     ]
    }
   ],
   "source": [
    "a = [int(i) for i in input().split()]\n",
    "for i in range(1, len(a)):\n",
    "    if a[i] > a[i - 1]:\n",
    "        print(a[i])"
   ]
  },
  {
   "cell_type": "markdown",
   "id": "34524ede",
   "metadata": {},
   "source": [
    "### Задание 3\n",
    "\n",
    "Допишите функцию, которая принимает список, меняет местами наибольший и наименьший элементы и возвращает этот список."
   ]
  },
  {
   "cell_type": "code",
   "execution_count": 5,
   "id": "34d2beae",
   "metadata": {},
   "outputs": [
    {
     "name": "stdout",
     "output_type": "stream",
     "text": [
      "[43, 32, 5, 76]\n"
     ]
    }
   ],
   "source": [
    "def replace_nums(nums:list)->list:\n",
    "    min_num=0\n",
    "    min_index=0\n",
    "    index=0\n",
    "    for num in nums:\n",
    "        if num<min_num or index==0:\n",
    "            min_num=num\n",
    "            min_index=index\n",
    "        index+=1\n",
    "\n",
    "    \n",
    "    \n",
    "    max_num=0\n",
    "    max_index=0\n",
    "    index=0\n",
    "    for num in nums:\n",
    "        if num>max_num or index==0:\n",
    "            max_num=num\n",
    "            max_index=index\n",
    "        index+=1\n",
    "   \n",
    "    \n",
    "    nums[min_index]=max_num\n",
    "    nums[max_index]=min_num\n",
    "    return nums\n",
    "    \n",
    "print(replace_nums([43,32,76,5]))\n",
    "    "
   ]
  }
 ],
 "metadata": {
  "kernelspec": {
   "display_name": "Python 3 (ipykernel)",
   "language": "python",
   "name": "python3"
  },
  "language_info": {
   "codemirror_mode": {
    "name": "ipython",
    "version": 3
   },
   "file_extension": ".py",
   "mimetype": "text/x-python",
   "name": "python",
   "nbconvert_exporter": "python",
   "pygments_lexer": "ipython3",
   "version": "3.9.7"
  }
 },
 "nbformat": 4,
 "nbformat_minor": 5
}
