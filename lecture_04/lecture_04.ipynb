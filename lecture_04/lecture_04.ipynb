{
 "cells": [
  {
   "cell_type": "code",
   "execution_count": 7,
   "id": "665c77cf",
   "metadata": {},
   "outputs": [
    {
     "name": "stdout",
     "output_type": "stream",
     "text": [
      "0\n",
      "1\n",
      "2\n",
      "3\n",
      "4\n",
      "5\n",
      "6\n",
      "7\n",
      "8\n",
      "9\n"
     ]
    }
   ],
   "source": [
    "for i in range (0,10):\n",
    "    print(i)"
   ]
  },
  {
   "cell_type": "code",
   "execution_count": 10,
   "id": "90b4c167",
   "metadata": {},
   "outputs": [
    {
     "name": "stdout",
     "output_type": "stream",
     "text": [
      "0 1 2 3 4 5 6 7 8 9 "
     ]
    }
   ],
   "source": [
    "def print_nth_item(n:int, max_n:int): #рекурсия \n",
    "    if n==max_n: \n",
    "        return #выход из функции\n",
    "    print(n, end=' ')\n",
    "    print_nth_item(n+1,max_n) #вызов функции и прибавление к нему 1\n",
    "print_nth_item(0,10)"
   ]
  },
  {
   "cell_type": "code",
   "execution_count": 16,
   "id": "c1f14567",
   "metadata": {},
   "outputs": [
    {
     "name": "stdout",
     "output_type": "stream",
     "text": [
      "{\n",
      " \"cells\": [\n",
      "  {\n",
      "   \"cell_type\": \"code\",\n",
      "   \"execution_count\": 167,\n",
      "   \"id\": \"73976c3f\",\n",
      "   \"metadata\": {},\n",
      "   \"outputs\": [\n",
      "    {\n",
      "     \"name\": \"stdout\",\n",
      "     \"output_type\": \"stream\",\n",
      "     \"text\": [\n",
      "      \"0\\n\",\n",
      "      \"1\\n\",\n",
      "      \"2\\n\",\n",
      "      \"3\\n\",\n",
      "      \"4\\n\",\n",
      "      \"5\\n\",\n",
      "      \"6\\n\",\n",
      "      \"7\\n\",\n",
      "      \"8\\n\",\n",
      "      \"9\\n\"\n",
      "     ]\n",
      "    }\n",
      "   ],\n",
      "   \"source\": [\n",
      "    \"array=[1,2,3,4,5,34546,789]\\n\",\n",
      "    \"for element in range(10):\\n\",\n",
      "    \"    print(element)\"\n",
      "   ]\n",
      "  },\n",
      "  {\n",
      "   \"cell_type\": \"code\",\n",
      "   \"execution_count\": 169,\n",
      "   \"id\": \"469f92c3\",\n",
      "   \"metadata\": {},\n",
      "   \"outputs\": [\n",
      "    {\n",
      "     \"name\": \"stdout\",\n",
      "     \"output_type\": \"stream\",\n",
      "     \"text\": [\n",
      "      \"99\\n\",\n",
      "      \"98\\n\",\n",
      "      \"97\\n\",\n",
      "      \"96\\n\",\n",
      "      \"95\\n\",\n",
      "      \"94\\n\",\n",
      "      \"93\\n\",\n",
      "      \"92\\n\",\n",
      "      \"91\\n\",\n",
      "      \"90\\n\",\n",
      "      \"89\\n\",\n",
      "      \"88\\n\",\n",
      "      \"87\\n\",\n",
      "      \"86\\n\",\n",
      "      \"85\\n\",\n",
      "      \"84\\n\",\n",
      "      \"83\\n\",\n",
      "      \"82\\n\",\n",
      "      \"81\\n\",\n",
      "      \"80\\n\",\n",
      "      \"79\\n\",\n",
      "      \"78\\n\",\n",
      "      \"77\\n\",\n",
      "      \"76\\n\",\n",
      "      \"75\\n\",\n",
      "      \"74\\n\",\n",
      "      \"73\\n\",\n",
      "      \"72\\n\",\n",
      "      \"71\\n\",\n",
      "      \"70\\n\",\n",
      "      \"69\\n\",\n",
      "      \"68\\n\",\n",
      "      \"67\\n\",\n",
      "      \"66\\n\",\n",
      "      \"65\\n\",\n",
      "      \"64\\n\",\n",
      "      \"63\\n\",\n",
      "      \"62\\n\",\n",
      "      \"61\\n\",\n",
      "      \"60\\n\",\n",
      "      \"59\\n\",\n",
      "      \"58\\n\",\n",
      "      \"57\\n\",\n",
      "      \"56\\n\",\n",
      "      \"55\\n\",\n",
      "      \"54\\n\",\n",
      "      \"53\\n\",\n",
      "      \"52\\n\",\n",
      "      \"51\\n\",\n",
      "      \"50\\n\",\n",
      "      \"49\\n\",\n",
      "      \"48\\n\",\n",
      "      \"47\\n\",\n",
      "      \"46\\n\",\n",
      "      \"45\\n\",\n",
      "      \"44\\n\",\n",
      "      \"43\\n\",\n",
      "      \"42\\n\",\n",
      "      \"41\\n\",\n",
      "      \"40\\n\",\n",
      "      \"39\\n\",\n",
      "      \"38\\n\",\n",
      "      \"37\\n\",\n",
      "      \"36\\n\",\n",
      "      \"35\\n\",\n",
      "      \"34\\n\",\n",
      "      \"33\\n\",\n",
      "      \"32\\n\",\n",
      "      \"31\\n\",\n",
      "      \"30\\n\",\n",
      "      \"29\\n\",\n",
      "      \"28\\n\",\n",
      "      \"27\\n\",\n",
      "      \"26\\n\",\n",
      "      \"25\\n\",\n",
      "      \"24\\n\",\n",
      "      \"23\\n\",\n",
      "      \"22\\n\",\n",
      "      \"21\\n\",\n",
      "      \"20\\n\",\n",
      "      \"19\\n\",\n",
      "      \"18\\n\",\n",
      "      \"17\\n\",\n",
      "      \"16\\n\",\n",
      "      \"15\\n\",\n",
      "      \"14\\n\",\n",
      "      \"13\\n\",\n",
      "      \"12\\n\",\n",
      "      \"11\\n\",\n",
      "      \"10\\n\",\n",
      "      \"9\\n\",\n",
      "      \"8\\n\",\n",
      "      \"7\\n\",\n",
      "      \"6\\n\",\n",
      "      \"5\\n\",\n",
      "      \"4\\n\",\n",
      "      \"3\\n\",\n",
      "      \"2\\n\",\n",
      "      \"1\\n\"\n",
      "     ]\n",
      "    }\n",
      "   ],\n",
      "   \"source\": [\n",
      "    \"for element in range(99,0,-1):\\n\",\n",
      "    \"    print(element)\"\n",
      "   ]\n",
      "  },\n",
      "  {\n",
      "   \"cell_type\": \"code\",\n",
      "   \"execution_count\": 170,\n",
      "   \"id\": \"91547e35\",\n",
      "   \"metadata\": {\n",
      "    \"scrolled\": true\n",
      "   },\n",
      "   \"outputs\": [\n",
      "    {\n",
      "     \"name\": \"stdout\",\n",
      "     \"output_type\": \"stream\",\n",
      "     \"text\": [\n",
      "      \"РџРѕРєСѓРїРѕРє\\n\"\n",
      "     ]\n",
      "    }\n",
      "   ],\n",
      "   \"source\": [\n",
      "    \"one = 'РџРѕРєСѓРїРєР°'\\n\",\n",
      "    \"few='РџРѕРєСѓРїРєРё'\\n\",\n",
      "    \"many='РџРѕРєСѓРїРѕРє'\\n\",\n",
      "    \"n = 128\\n\",\n",
      "    \"if 9< n%100 <20:\\n\",\n",
      "    \"    print(many)\\n\",\n",
      "    \"elif n % 10 ==1:\\n\",\n",
      "    \"    print(one)\\n\",\n",
      "    \"elif n % 10 in [2,3,4]:\\n\",\n",
      "    \"    print(few)\\n\",\n",
      "    \"elif n % 10 ==0 or n%10 in [5,6,7,8,9]:\\n\",\n",
      "    \"    print(many)\"\n",
      "   ]\n",
      "  },\n",
      "  {\n",
      "   \"cell_type\": \"code\",\n",
      "   \"execution_count\": null,\n",
      "   \"id\": \"fe377f38\",\n",
      "   \"metadata\": {},\n",
      "   \"outputs\": [],\n",
      "   \"source\": []\n",
      "  },\n",
      "  {\n",
      "   \"cell_type\": \"code\",\n",
      "   \"execution_count\": null,\n",
      "   \"id\": \"bad6cf56\",\n",
      "   \"metadata\": {},\n",
      "   \"outputs\": [],\n",
      "   \"source\": []\n",
      "  },\n",
      "  {\n",
      "   \"cell_type\": \"code\",\n",
      "   \"execution_count\": null,\n",
      "   \"id\": \"46e80bd8\",\n",
      "   \"metadata\": {},\n",
      "   \"outputs\": [],\n",
      "   \"source\": []\n",
      "  },\n",
      "  {\n",
      "   \"cell_type\": \"code\",\n",
      "   \"execution_count\": null,\n",
      "   \"id\": \"672f1c30\",\n",
      "   \"metadata\": {},\n",
      "   \"outputs\": [],\n",
      "   \"source\": []\n",
      "  },\n",
      "  {\n",
      "   \"cell_type\": \"code\",\n",
      "   \"execution_count\": null,\n",
      "   \"id\": \"8857226b\",\n",
      "   \"metadata\": {},\n",
      "   \"outputs\": [],\n",
      "   \"source\": []\n",
      "  }\n",
      " ],\n",
      " \"metadata\": {\n",
      "  \"kernelspec\": {\n",
      "   \"display_name\": \"Python 3\",\n",
      "   \"language\": \"python\",\n",
      "   \"name\": \"python3\"\n",
      "  },\n",
      "  \"language_info\": {\n",
      "   \"codemirror_mode\": {\n",
      "    \"name\": \"ipython\",\n",
      "    \"version\": 3\n",
      "   },\n",
      "   \"file_extension\": \".py\",\n",
      "   \"mimetype\": \"text/x-python\",\n",
      "   \"name\": \"python\",\n",
      "   \"nbconvert_exporter\": \"python\",\n",
      "   \"pygments_lexer\": \"ipython3\",\n",
      "   \"version\": \"3.8.8\"\n",
      "  }\n",
      " },\n",
      " \"nbformat\": 4,\n",
      " \"nbformat_minor\": 5\n",
      "}\n",
      "\n"
     ]
    },
    {
     "data": {
      "text/plain": [
       "<function TextIOWrapper.close()>"
      ]
     },
     "execution_count": 16,
     "metadata": {},
     "output_type": "execute_result"
    }
   ],
   "source": [
    "##Работа с файлами\n",
    "f=open('LAB1.ipynb') #в скобках файл\n",
    "print(f.read())\n",
    "for line in f.readlines():\n",
    "    print(line, end=' ')\n",
    "f.close"
   ]
  },
  {
   "cell_type": "code",
   "execution_count": 17,
   "id": "c114d486",
   "metadata": {},
   "outputs": [],
   "source": [
    "with open('LAB1.ipynb') as file:\n",
    "    for line in f.readlines():\n",
    "        print(line, end=' ')"
   ]
  },
  {
   "cell_type": "code",
   "execution_count": 20,
   "id": "2f9ba941",
   "metadata": {},
   "outputs": [
    {
     "ename": "NameError",
     "evalue": "name 'tokens' is not defined",
     "output_type": "error",
     "traceback": [
      "\u001b[1;31m---------------------------------------------------------------------------\u001b[0m",
      "\u001b[1;31mNameError\u001b[0m                                 Traceback (most recent call last)",
      "\u001b[1;32m<ipython-input-20-f66ab601e1c6>\u001b[0m in \u001b[0;36m<module>\u001b[1;34m\u001b[0m\n\u001b[1;32m----> 1\u001b[1;33m \u001b[0mparsed\u001b[0m\u001b[1;33m=\u001b[0m\u001b[0mlist\u001b[0m\u001b[1;33m(\u001b[0m\u001b[0mmap\u001b[0m\u001b[1;33m(\u001b[0m\u001b[0mfloat\u001b[0m\u001b[1;33m,\u001b[0m\u001b[0mtokens\u001b[0m\u001b[1;33m)\u001b[0m\u001b[1;33m)\u001b[0m \u001b[1;31m# примени ф-юю float к токену дальше map  и list\u001b[0m\u001b[1;33m\u001b[0m\u001b[1;33m\u001b[0m\u001b[0m\n\u001b[0m\u001b[0;32m      2\u001b[0m \u001b[0mprint\u001b[0m\u001b[1;33m(\u001b[0m\u001b[0mparsed\u001b[0m\u001b[1;33m)\u001b[0m\u001b[1;33m\u001b[0m\u001b[1;33m\u001b[0m\u001b[0m\n",
      "\u001b[1;31mNameError\u001b[0m: name 'tokens' is not defined"
     ]
    }
   ],
   "source": [
    "parsed=list(map(float,tokens)) # примени ф-юю float к токену дальше map  и list\n",
    "print(parsed)"
   ]
  },
  {
   "cell_type": "code",
   "execution_count": 19,
   "id": "cdbea282",
   "metadata": {},
   "outputs": [
    {
     "ename": "NameError",
     "evalue": "name 'tokens' is not defined",
     "output_type": "error",
     "traceback": [
      "\u001b[1;31m---------------------------------------------------------------------------\u001b[0m",
      "\u001b[1;31mNameError\u001b[0m                                 Traceback (most recent call last)",
      "\u001b[1;32m<ipython-input-19-55d4318c9a50>\u001b[0m in \u001b[0;36m<module>\u001b[1;34m\u001b[0m\n\u001b[0;32m      1\u001b[0m \u001b[0mparsed\u001b[0m\u001b[1;33m=\u001b[0m\u001b[1;33m[\u001b[0m\u001b[1;33m]\u001b[0m\u001b[1;33m\u001b[0m\u001b[1;33m\u001b[0m\u001b[0m\n\u001b[1;32m----> 2\u001b[1;33m \u001b[1;32mfor\u001b[0m \u001b[0mtoken\u001b[0m \u001b[1;32min\u001b[0m \u001b[0mtokens\u001b[0m\u001b[1;33m:\u001b[0m\u001b[1;33m\u001b[0m\u001b[1;33m\u001b[0m\u001b[0m\n\u001b[0m\u001b[0;32m      3\u001b[0m     \u001b[0mparsed\u001b[0m\u001b[1;33m.\u001b[0m\u001b[0mappend\u001b[0m\u001b[1;33m(\u001b[0m\u001b[0mfloat\u001b[0m\u001b[1;33m(\u001b[0m\u001b[0mtoken\u001b[0m\u001b[1;33m)\u001b[0m\u001b[1;33m)\u001b[0m\u001b[1;33m\u001b[0m\u001b[1;33m\u001b[0m\u001b[0m\n\u001b[0;32m      4\u001b[0m \u001b[0mprint\u001b[0m\u001b[1;33m(\u001b[0m\u001b[0mparsed\u001b[0m\u001b[1;33m)\u001b[0m\u001b[1;33m\u001b[0m\u001b[1;33m\u001b[0m\u001b[0m\n",
      "\u001b[1;31mNameError\u001b[0m: name 'tokens' is not defined"
     ]
    }
   ],
   "source": [
    "# как программа в 18, но тяжелее- лучше писать как 18\n",
    "parsed=[]\n",
    "for token in tokens:\n",
    "    parsed.append(float(token))\n",
    "print(parsed)"
   ]
  },
  {
   "cell_type": "code",
   "execution_count": 23,
   "id": "112076d2",
   "metadata": {},
   "outputs": [
    {
     "name": "stdout",
     "output_type": "stream",
     "text": [
      "qwrwr qwrqwr\n",
      "qwrwr qwrqwr\n"
     ]
    }
   ],
   "source": [
    "res=input()\n",
    "print(res)"
   ]
  },
  {
   "cell_type": "code",
   "execution_count": 24,
   "id": "a6334e7d",
   "metadata": {},
   "outputs": [
    {
     "name": "stdout",
     "output_type": "stream",
     "text": [
      "qwrqwr qwrqwrqw\n",
      "['qwrqwr', 'qwrqwrqw']\n"
     ]
    }
   ],
   "source": [
    "res=input().split() # .split() добавляет в список и разбивает по пробелам\n",
    "print(res)"
   ]
  },
  {
   "cell_type": "code",
   "execution_count": 25,
   "id": "8f633220",
   "metadata": {},
   "outputs": [],
   "source": [
    "def own_map(f,items:iter): # работа с итератором\n",
    "    for item in items:\n",
    "        yield(items)"
   ]
  },
  {
   "cell_type": "code",
   "execution_count": 27,
   "id": "2d5977e8",
   "metadata": {},
   "outputs": [
    {
     "name": "stdout",
     "output_type": "stream",
     "text": [
      "2 3 \n"
     ]
    }
   ],
   "source": [
    "(a,b)=map(float,input().split()) \n",
    "# это как\n",
    "#(a,b)=[10,20]"
   ]
  },
  {
   "cell_type": "code",
   "execution_count": 69,
   "id": "923047fa",
   "metadata": {},
   "outputs": [
    {
     "name": "stdout",
     "output_type": "stream",
     "text": [
      "2\n"
     ]
    }
   ],
   "source": []
  },
  {
   "cell_type": "code",
   "execution_count": 89,
   "id": "f7cef9be",
   "metadata": {},
   "outputs": [
    {
     "name": "stdout",
     "output_type": "stream",
     "text": [
      "3\n"
     ]
    }
   ],
   "source": [
    "list1 = {1,3,4,6,2} # ДЗ HOMEWORK04 самсост. 7\n",
    "list2 = {2,3,5,6,7}\n",
    "result=0\n",
    "def multiple_lists_of_numbers(list1,list2:list)->int:\n",
    "    list1&list2\n",
    "print(len(list1&list2))\n",
    "    "
   ]
  },
  {
   "cell_type": "code",
   "execution_count": null,
   "id": "b0c2681a",
   "metadata": {},
   "outputs": [],
   "source": []
  },
  {
   "cell_type": "code",
   "execution_count": null,
   "id": "aa475f10",
   "metadata": {},
   "outputs": [],
   "source": []
  },
  {
   "cell_type": "code",
   "execution_count": null,
   "id": "1032895c",
   "metadata": {},
   "outputs": [],
   "source": []
  }
 ],
 "metadata": {
  "kernelspec": {
   "display_name": "Python 3 (ipykernel)",
   "language": "python",
   "name": "python3"
  },
  "language_info": {
   "codemirror_mode": {
    "name": "ipython",
    "version": 3
   },
   "file_extension": ".py",
   "mimetype": "text/x-python",
   "name": "python",
   "nbconvert_exporter": "python",
   "pygments_lexer": "ipython3",
   "version": "3.10.0"
  }
 },
 "nbformat": 4,
 "nbformat_minor": 5
}
