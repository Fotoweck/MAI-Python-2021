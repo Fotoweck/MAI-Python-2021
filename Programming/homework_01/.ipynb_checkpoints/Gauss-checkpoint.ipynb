{
 "cells": [
  {
   "cell_type": "markdown",
   "id": "12c302ce",
   "metadata": {},
   "source": [
    "## with NumPy"
   ]
  },
  {
   "cell_type": "code",
   "execution_count": 6,
   "id": "ad325cee",
   "metadata": {},
   "outputs": [
    {
     "name": "stdout",
     "output_type": "stream",
     "text": [
      "[[  3.          -2.           5.           0.        ]\n",
      " [  0.75        -5.75         3.5         -3.75      ]\n",
      " [ -6.          -7.91803279   3.12295082  -6.57786885]\n",
      " [ -1.5        -10.74056604   1.55257091  -1.41889906]]\n",
      "[ 2.         -1.         -5.90163934 -1.68907366]\n",
      "result: [-0.51367314 -0.22651248  0.61759889  1.19041143]\n"
     ]
    }
   ],
   "source": [
    "from numpy import array, zeros\n",
    "a=array([[3,-2,5,0],\n",
    "         [4,5,8,1],\n",
    "         [1,1,2,1],\n",
    "         [2,7,6,5]], float)\n",
    "b=array([2,4,5,7],float)\n",
    "n=len(b)\n",
    "x=zeros(n,float)\n",
    "for k in range(n-1):\n",
    "  for i in range(k+1,n):\n",
    "    if a[i,k]==0:\n",
    "      continue\n",
    "    factor=a[k,k]/a[i,k]\n",
    "    for j in range(k,n):\n",
    "      a[i,j]=a[k,j]-a[j,j]*factor\n",
    "    b[i]=b[k]-b[i]*factor\n",
    "print(a)\n",
    "\n",
    "print(b)\n",
    "\n",
    "x[n-1]=b[n-1]/a[n-1,n-1]\n",
    "for i in range(n-2,-1,-1):\n",
    "    sum_ax=0\n",
    "    for j in range(i+1,n):\n",
    "        sum_ax += a[i,j]*x[j]\n",
    "    x[i]=(b[i]-sum_ax)/a[i,i]\n",
    "print('result:',x)    "
   ]
  },
  {
   "cell_type": "code",
   "execution_count": null,
   "id": "8f0808f6",
   "metadata": {},
   "outputs": [],
   "source": []
  },
  {
   "cell_type": "code",
   "execution_count": 40,
   "id": "05866ec1",
   "metadata": {},
   "outputs": [
    {
     "name": "stdout",
     "output_type": "stream",
     "text": [
      "Введите количество строк: 4\n",
      "Введите количество столбцов: 4\n",
      "Введите значения коэффициентов: 2.0\n",
      "Введите значения коэффициентов: 4.0\n",
      "Введите значения коэффициентов: 3\n",
      "Введите значения коэффициентов: 2\n",
      "Введите значения коэффициентов: 5\n",
      "Введите значения коэффициентов: 4\n",
      "Введите значения коэффициентов: 5\n",
      "Введите значения коэффициентов: 4\n",
      "Введите значения коэффициентов: 5\n",
      "Введите значения коэффициентов: 45\n",
      "Введите значения коэффициентов: 4\n",
      "Введите значения коэффициентов: 5\n",
      "Введите значения коэффициентов: 45\n",
      "Введите значения коэффициентов: 45\n",
      "Введите значения коэффициентов: 4\n",
      "Введите значения коэффициентов: 5\n",
      "Введите значения правых частей: 45\n",
      "Введите значения правых частей: 4\n",
      "Введите значения правых частей: 5\n",
      "Введите значения правых частей: 45\n"
     ]
    }
   ],
   "source": [
    "A = [[1.0, -2.0, 3.0, -4.0],\n",
    "[3.0, 3.0, -5.0, -1.0],\n",
    "    [3.0, 0.0, 3.0, -10.0],\n",
    "[-2.0, 1.0, 2.0, -3.0]]\n",
    "B = [2.0,-3.0,8.0,5.0]\n",
    "# --- end of исходные данные\n",
    "# --- перемена местами двух строк системы\n",
    "def SwapRows(A, B, row1, row2):\n",
    "    A[row1], A[row2] = A[row2], A[row1]\n",
    "    B[row1], B[row2] = B[row2], B[row1]\n",
    "# --- end of перемена местами двух строк системы\n",
    "# --- деление строки системы на число\n",
    "def DivideRow(A, B, row, divider):\n",
    "    A[row] = [a / divider for a in A[row]]\n",
    "    B[row] /= divider\n",
    "# --- end of деление строки системы на число\n",
    "# --- сложение строки системы с другой строкой, умноженной на число\n",
    "def CombineRows(A, B, row, source_row, weight):\n",
    "    A[row] = [(a + k * weight) for a, k in zip(A[row], A[source_row])]\n",
    "    B[row] += B[source_row] * weight\n",
    "# --- end of сложение строки системы с другой строкой, умноженной на число\n",
    "# --- решение системы методом Гаусса (приведением к треугольному виду)\n",
    "def Gauss(A, B):\n",
    "    column = 0\n",
    "    while (column < len(B)):\n",
    "        print(\"Ищем максимальный по модулю элемент в {0}-м столбце:\".format(column + 1))\n",
    "        current_row = None\n",
    "        for r in range(column, len(A)):\n",
    "            if current_row is None or abs(A[r][column]) > abs(A[current_row][column]):\n",
    "                current_row = r\n",
    "        if current_row is None:\n",
    "            print(\"решений нет\")\n",
    "            return None\n",
    "\n",
    "        if current_row != column:\n",
    "            print(\"Переставляем строку с найденным элементом повыше:\")\n",
    "            SwapRows(A, B, current_row, column)\n",
    "            \n",
    "        print(\"Нормализуем строку с найденным элементом:\")\n",
    "        DivideRow(A, B, column, A[column][column])\n",
    "        FancyPrint(A, B, (column, column))\n",
    "        print(\"Обрабатываем нижележащие строки:\")\n",
    "        for r in range(column + 1, len(A)):\n",
    "            CombineRows(A, B, r, column, -A[r][column])\n",
    "            FancyPrint(A, B, (column, column))\n",
    "            column += 1\n",
    "    print(\"Матрица приведена к треугольному виду, считаем решение\")\n",
    "    X = [0 for b in B]\n",
    "    for i in range(len(B) - 1, -1, -1):\n",
    "        X[i] = B[i] - sum(x * a for x, a in zip(X[(i + 1):], A[i][(i + 1):]))\n",
    "    print(\"Получили ответ:\")\n",
    "    print(\"\\n\".join(\"X{0} =\\t{1:10.2f}\".format(i + 1, x) for i, x in enumerate(X)))\n",
    "    return X\n",
    "# --- end of решение системы методом Гаусса (приведением ктреугольному виду)\n",
    "print(\"Исходная система:\")\n",
    "print(\"Решаем:\")\n",
    "Gauss(A, B)"
   ]
  },
  {
   "cell_type": "code",
   "execution_count": null,
   "id": "6a0eb50b",
   "metadata": {},
   "outputs": [],
   "source": []
  },
  {
   "cell_type": "code",
   "execution_count": 30,
   "id": "de0ec687",
   "metadata": {},
   "outputs": [
    {
     "name": "stdout",
     "output_type": "stream",
     "text": [
      "Requirement already satisfied: sympy in c:\\users\\user\\appdata\\local\\programs\\python\\python39\\lib\\site-packages (1.10.1)\n",
      "Requirement already satisfied: mpmath>=0.19 in c:\\users\\user\\appdata\\local\\programs\\python\\python39\\lib\\site-packages (from sympy) (1.2.1)\n"
     ]
    }
   ],
   "source": [
    "!pip install sympy"
   ]
  },
  {
   "cell_type": "code",
   "execution_count": 27,
   "id": "e339698a",
   "metadata": {},
   "outputs": [
    {
     "name": "stdout",
     "output_type": "stream",
     "text": [
      "Requirement already satisfied: gauss in c:\\users\\user\\appdata\\local\\programs\\python\\python39\\lib\\site-packages (0.0.9)\n"
     ]
    }
   ],
   "source": [
    "!pip install gauss"
   ]
  },
  {
   "cell_type": "code",
   "execution_count": 43,
   "id": "7664ce2d",
   "metadata": {},
   "outputs": [
    {
     "name": "stdout",
     "output_type": "stream",
     "text": [
      "Исходная матрица A:\n",
      "⎡3   11⎤\n",
      "⎢      ⎥\n",
      "⎣22  6 ⎦\n"
     ]
    },
    {
     "ename": "NameError",
     "evalue": "name 'gauss' is not defined",
     "output_type": "error",
     "traceback": [
      "\u001b[1;31m---------------------------------------------------------------------------\u001b[0m",
      "\u001b[1;31mNameError\u001b[0m                                 Traceback (most recent call last)",
      "\u001b[1;32m~\\AppData\\Local\\Temp/ipykernel_11904/1001411285.py\u001b[0m in \u001b[0;36m<module>\u001b[1;34m\u001b[0m\n\u001b[0;32m     11\u001b[0m \u001b[1;33m\u001b[0m\u001b[0m\n\u001b[0;32m     12\u001b[0m \u001b[1;32mif\u001b[0m \u001b[0m__name__\u001b[0m \u001b[1;33m==\u001b[0m \u001b[1;34m\"__main__\"\u001b[0m\u001b[1;33m:\u001b[0m\u001b[1;33m\u001b[0m\u001b[1;33m\u001b[0m\u001b[0m\n\u001b[1;32m---> 13\u001b[1;33m     \u001b[0mmain\u001b[0m\u001b[1;33m(\u001b[0m\u001b[1;33m)\u001b[0m\u001b[1;33m\u001b[0m\u001b[1;33m\u001b[0m\u001b[0m\n\u001b[0m",
      "\u001b[1;32m~\\AppData\\Local\\Temp/ipykernel_11904/1001411285.py\u001b[0m in \u001b[0;36mmain\u001b[1;34m()\u001b[0m\n\u001b[0;32m      6\u001b[0m     \u001b[0mprint\u001b[0m\u001b[1;33m(\u001b[0m\u001b[1;34m\"Исходная матрица A:\"\u001b[0m\u001b[1;33m)\u001b[0m\u001b[1;33m\u001b[0m\u001b[1;33m\u001b[0m\u001b[0m\n\u001b[0;32m      7\u001b[0m     \u001b[0msympy\u001b[0m\u001b[1;33m.\u001b[0m\u001b[0mpprint\u001b[0m\u001b[1;33m(\u001b[0m\u001b[0mA\u001b[0m\u001b[1;33m)\u001b[0m\u001b[1;33m\u001b[0m\u001b[1;33m\u001b[0m\u001b[0m\n\u001b[1;32m----> 8\u001b[1;33m     \u001b[0mx\u001b[0m \u001b[1;33m=\u001b[0m \u001b[0mgauss\u001b[0m\u001b[1;33m.\u001b[0m\u001b[0mgauss\u001b[0m\u001b[1;33m(\u001b[0m\u001b[0mA\u001b[0m\u001b[1;33m,\u001b[0m \u001b[0mb\u001b[0m\u001b[1;33m)\u001b[0m\u001b[1;33m\u001b[0m\u001b[1;33m\u001b[0m\u001b[0m\n\u001b[0m\u001b[0;32m      9\u001b[0m     \u001b[1;32mif\u001b[0m \u001b[0mx\u001b[0m\u001b[1;33m:\u001b[0m\u001b[1;33m\u001b[0m\u001b[1;33m\u001b[0m\u001b[0m\n\u001b[0;32m     10\u001b[0m         \u001b[0mprint\u001b[0m\u001b[1;33m(\u001b[0m\u001b[1;34m\"\\nРезультат:\"\u001b[0m\u001b[1;33m,\u001b[0m \u001b[0mx\u001b[0m\u001b[1;33m)\u001b[0m\u001b[1;33m\u001b[0m\u001b[1;33m\u001b[0m\u001b[0m\n",
      "\u001b[1;31mNameError\u001b[0m: name 'gauss' is not defined"
     ]
    }
   ],
   "source": [
    "import sympy\n",
    "import random\n",
    "def main():\n",
    "    A = sympy.Matrix([[3, 11], [22, 6]])\n",
    "    b = sympy.Matrix([0, 0])\n",
    "    print(\"Исходная матрица A:\")\n",
    "    sympy.pprint(A)\n",
    "    x = gauss.gauss(A, b)\n",
    "    if x:\n",
    "        print(\"\\nРезультат:\", x)\n",
    "\n",
    "if __name__ == \"__main__\":\n",
    "    main()"
   ]
  },
  {
   "cell_type": "code",
   "execution_count": null,
   "id": "6110e665",
   "metadata": {},
   "outputs": [],
   "source": []
  }
 ],
 "metadata": {
  "kernelspec": {
   "display_name": "Python 3 (ipykernel)",
   "language": "python",
   "name": "python3"
  },
  "language_info": {
   "codemirror_mode": {
    "name": "ipython",
    "version": 3
   },
   "file_extension": ".py",
   "mimetype": "text/x-python",
   "name": "python",
   "nbconvert_exporter": "python",
   "pygments_lexer": "ipython3",
   "version": "3.9.7"
  }
 },
 "nbformat": 4,
 "nbformat_minor": 5
}
