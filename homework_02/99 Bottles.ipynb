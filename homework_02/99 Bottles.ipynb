{
 "cells": [
  {
   "cell_type": "code",
   "execution_count": null,
   "id": "81c1ab16",
   "metadata": {},
   "outputs": [],
   "source": [
    "i=99\n",
    "while i>2 : \n",
    "    print(i ,'bottles of beer on the wall,',i,'bottles of beer.') \n",
    "    i=i-1\n",
    "    print('Take one down and pass it around,',i,'bottles of beer on the wall.')\n",
    "while i>1 :\n",
    "    print(i ,'bottles of beer on the wall,',i,'bottles of beer.') \n",
    "    i=i-1\n",
    "    print('Take one down and pass it around,',i,'bottle of beer on the wall.')"
   ]
  },
  {
   "cell_type": "code",
   "execution_count": null,
   "id": "cf4a74a8",
   "metadata": {},
   "outputs": [],
   "source": []
  },
  {
   "cell_type": "code",
   "execution_count": null,
   "id": "24934642",
   "metadata": {},
   "outputs": [],
   "source": []
  }
 ],
 "metadata": {
  "kernelspec": {
   "display_name": "Python 3 (ipykernel)",
   "language": "python",
   "name": "python3"
  },
  "language_info": {
   "codemirror_mode": {
    "name": "ipython",
    "version": 3
   },
   "file_extension": ".py",
   "mimetype": "text/x-python",
   "name": "python",
   "nbconvert_exporter": "python",
   "pygments_lexer": "ipython3",
   "version": "3.9.7"
  }
 },
 "nbformat": 4,
 "nbformat_minor": 5
}
