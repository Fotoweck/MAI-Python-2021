{
 "cells": [
  {
   "cell_type": "code",
   "execution_count": 25,
   "id": "e401075e",
   "metadata": {},
   "outputs": [
    {
     "name": "stdout",
     "output_type": "stream",
     "text": [
      "[(0, 'MAI'), (1, 'Lambda'), (2, 'Python')]\n",
      "[(0, 'H'), (1, 'e'), (2, 'l'), (3, 'l'), (4, 'o'), (5, ' '), (6, 'M'), (7, 'A'), (8, 'I'), (9, '!')]\n"
     ]
    }
   ],
   "source": [
    "def own_enumerate(arr):\n",
    "    i=0\n",
    "    for item in arr:\n",
    "        tuple1=(i,item)\n",
    "        yield tuple1\n",
    "        i+=1\n",
    "\n",
    "print(list(own_enumerate(['MAI', 'Lambda', 'Python'])))\n",
    "print(list(own_enumerate('Hello MAI!')))\n",
    "\n",
    "\n"
   ]
  },
  {
   "cell_type": "code",
   "execution_count": 29,
   "id": "48f00005",
   "metadata": {},
   "outputs": [
    {
     "name": "stdout",
     "output_type": "stream",
     "text": [
      "[('M', 'L'), ('A', 'a'), ('I', 'm')]\n",
      "[('H', 5), ('e', 1), ('l', 0), ('l', 5)]\n"
     ]
    }
   ],
   "source": [
    "def own_zip(a, b):\n",
    "        if len(a)<len(b):\n",
    "            x=len(a)\n",
    "        else:\n",
    "            x=len(b)\n",
    "        for i in range(0,x):\n",
    "            tuple2=(a[i],b[i])\n",
    "            yield tuple2\n",
    "\n",
    "print(list(own_zip('MAI', 'Lambda')))\n",
    "print(list(own_zip('Hello', [5, 1, 0, 5])))\n"
   ]
  },
  {
   "cell_type": "code",
   "execution_count": null,
   "id": "f26bd694",
   "metadata": {},
   "outputs": [],
   "source": []
  }
 ],
 "metadata": {
  "kernelspec": {
   "display_name": "Python 3 (ipykernel)",
   "language": "python",
   "name": "python3"
  },
  "language_info": {
   "codemirror_mode": {
    "name": "ipython",
    "version": 3
   },
   "file_extension": ".py",
   "mimetype": "text/x-python",
   "name": "python",
   "nbconvert_exporter": "python",
   "pygments_lexer": "ipython3",
   "version": "3.10.0"
  }
 },
 "nbformat": 4,
 "nbformat_minor": 5
}
